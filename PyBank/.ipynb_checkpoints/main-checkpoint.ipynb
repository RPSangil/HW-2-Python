{
 "cells": [
  {
   "cell_type": "code",
   "execution_count": null,
   "id": "e88a2e30-b958-41fc-88df-bf4eb6d0a36a",
   "metadata": {},
   "outputs": [],
   "source": [
    "#thsi is a test"
   ]
  }
 ],
 "metadata": {
  "kernelspec": {
   "display_name": "Python 3 (ipykernel)",
   "language": "python",
   "name": "python3"
  },
  "language_info": {
   "codemirror_mode": {
    "name": "ipython",
    "version": 3
   },
   "file_extension": ".py",
   "mimetype": "text/x-python",
   "name": "python",
   "nbconvert_exporter": "python",
   "pygments_lexer": "ipython3",
   "version": "3.9.7"
  }
 },
 "nbformat": 4,
 "nbformat_minor": 5
}
