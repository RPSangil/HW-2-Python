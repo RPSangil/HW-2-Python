{
 "cells": [
  {
   "cell_type": "code",
   "execution_count": 1,
   "id": "3948a2b9-c04a-4f05-80f7-5f2f1bedfa14",
   "metadata": {},
   "outputs": [],
   "source": [
    "# Import the pathlib and csv library\n",
    "from pathlib import Path\n",
    "import csv"
   ]
  },
  {
   "cell_type": "code",
   "execution_count": 2,
   "id": "8a726312-aa33-4b58-8c9a-f0294ee33480",
   "metadata": {},
   "outputs": [
    {
     "name": "stdout",
     "output_type": "stream",
     "text": [
      "Current Working Directory: C:\\Users\\Rae\\Desktop\\Week 2 homework\\Python-Homework\\PyBank\n"
     ]
    }
   ],
   "source": [
    "# Check the current directory where the Python program is executing from\n",
    "print(f\"Current Working Directory: {Path.cwd()}\")\n"
   ]
  },
  {
   "cell_type": "code",
   "execution_count": 135,
   "id": "f97c8452-b39d-4ab7-be86-51c88c029a5a",
   "metadata": {},
   "outputs": [
    {
     "name": "stdout",
     "output_type": "stream",
     "text": [
      "budget_data.csv\n"
     ]
    }
   ],
   "source": [
    "# Set the file path\n",
    "csvpath = Path ('budget_data.csv')\n",
    "print(csvpath)\n"
   ]
  },
  {
   "cell_type": "code",
   "execution_count": 136,
   "id": "91db4820-c722-4347-ab82-e06f3efe137c",
   "metadata": {},
   "outputs": [
    {
     "name": "stdout",
     "output_type": "stream",
     "text": [
      "Total Months: 86\n",
      "Net Total of Profit/Losses: $38382578\n",
      "6933.069767441861\n"
     ]
    }
   ],
   "source": [
    "#The total number of months included in the dataset.\n",
    "\n",
    "# Initialize line_num variable\n",
    "line_num = 0\n",
    "\n",
    "\n",
    "# Open the file in \"read\" mode ('r') and store the contents in the variable 'csvfile'\n",
    "with open(csvpath, 'r') as csvfile:\n",
    "    \n",
    "    # Csv file to the csv.reader() function (with ',' as the delmiter/separator)\n",
    "    csvreader = csv.reader(csvfile, delimiter=',')\n",
    "    \n",
    "    # Go to the next row from the start of the file and iterate line_num by 1\n",
    "    header = next(csvreader)\n",
    "    line_num += 1\n",
    "    \n",
    "    # Initialize variables\n",
    "    total_months = 0\n",
    "    net_profitnlosses = 0\n",
    "    change_profitnlosses = 0\n",
    "    \n",
    "    \n",
    "    # Calculate loops\n",
    "    for row in csvreader:\n",
    "        \n",
    "        # Count number of months\n",
    "        total_months += 1\n",
    "        \n",
    "        # Calculate total Profit/losses\n",
    "        profitnlosses = int(row[1])\n",
    "        net_profitnlosses += profitnlosses\n",
    "        \n",
    "        \n",
    "        # sum change of Profit/Losses\n",
    "    \n",
    "        \n",
    "    \n",
    "    #check value is correct\n",
    "    print(f\"Total Months: {total_months}\")\n",
    "    print(f\"Net Total of Profit/Losses: ${net_profitnlosses}\")\n",
    "    print(average_change_profitnlosses)\n",
    "    "
   ]
  },
  {
   "cell_type": "code",
   "execution_count": null,
   "id": "20b6cba5-787d-415e-ae3d-fb2cbc041962",
   "metadata": {},
   "outputs": [],
   "source": [
    "    "
   ]
  },
  {
   "cell_type": "code",
   "execution_count": null,
   "id": "0120a327-f174-401c-b617-8e0e24d9c4bb",
   "metadata": {},
   "outputs": [],
   "source": [
    "    \n",
    "   "
   ]
  },
  {
   "cell_type": "code",
   "execution_count": null,
   "id": "48c1d250-7c17-4783-abcd-2eaa4f7a671a",
   "metadata": {},
   "outputs": [],
   "source": [
    "#Sum profits and track how many months of profit and sum losses and track how many months of losses\n",
    "        if profitnlosses > change_profitnlosses:\n",
    "            change_profitnlosses += profitnlosses\n",
    "        else :\n",
    "            change_profitnlosses -= profitnlosses\n",
    "        \n",
    "        #Calculate average of the changes in Profit/Losses\n",
    "        average_change_profitnlosses = (change_profitnlosses) / (total_months) "
   ]
  },
  {
   "cell_type": "code",
   "execution_count": null,
   "id": "5facfd8a-fb98-452d-91ee-7aa1cb7ad4ae",
   "metadata": {},
   "outputs": [],
   "source": [
    "#The average of the changes in Profit/Losses over the entire period."
   ]
  },
  {
   "cell_type": "code",
   "execution_count": null,
   "id": "a763c871-16ac-421e-9853-20c34a1bc9d5",
   "metadata": {},
   "outputs": [],
   "source": [
    "#The greatest increase in profits (date and amount) over the entire period."
   ]
  },
  {
   "cell_type": "code",
   "execution_count": null,
   "id": "4c21f719-2c94-4436-bd21-523556c33b4a",
   "metadata": {},
   "outputs": [],
   "source": [
    "#The greatest decrease in losses (date and amount) over the entire period."
   ]
  }
 ],
 "metadata": {
  "kernelspec": {
   "display_name": "Python 3 (ipykernel)",
   "language": "python",
   "name": "python3"
  },
  "language_info": {
   "codemirror_mode": {
    "name": "ipython",
    "version": 3
   },
   "file_extension": ".py",
   "mimetype": "text/x-python",
   "name": "python",
   "nbconvert_exporter": "python",
   "pygments_lexer": "ipython3",
   "version": "3.9.7"
  }
 },
 "nbformat": 4,
 "nbformat_minor": 5
}
