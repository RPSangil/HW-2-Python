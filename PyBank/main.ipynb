{
 "cells": [
  {
   "cell_type": "code",
   "execution_count": 75,
   "id": "3948a2b9-c04a-4f05-80f7-5f2f1bedfa14",
   "metadata": {},
   "outputs": [
    {
     "name": "stdout",
     "output_type": "stream",
     "text": [
      "Total Months: 86\n",
      "Net Total of Profit/Losses: $38382578\n",
      "Average Change: $-2315.12\n"
     ]
    }
   ],
   "source": [
    "# Import the pathlib and csv library\n",
    "from pathlib import Path\n",
    "import csv\n",
    "\n",
    "# Set the file path\n",
    "csvpath = Path ('budget_data.csv')\n",
    "\n",
    "# Initialize variables\n",
    "line_num = 0\n",
    "total_months = 0\n",
    "net_profitnlosses = 0\n",
    "count_profitnlosses = 0\n",
    "total_change_profitnlosses = 0\n",
    "profitnlosses = 0\n",
    "change_profitnlosses = 0\n",
    "max_change_profitnlosses = 0\n",
    "min_change_profitnlosses = 0\n",
    "\n",
    "# Open the file in \"read\" mode ('r') and store the contents in the variable 'csvfile'\n",
    "with open(csvpath, 'r') as csvfile:\n",
    "    \n",
    "    # Csv file to the csv.reader() function (with ',' as the delmiter/separator)\n",
    "    csvreader = csv.reader(csvfile, delimiter=',')\n",
    "    \n",
    "    # Go to the next row from the start of the file and iterate line_num by 1\n",
    "    header = next(csvreader)\n",
    "    line_num += 1\n",
    "    \n",
    "    # create loop to calculate variables\n",
    "    for row in csvreader:\n",
    "        \n",
    "        # Count the total number of months included in the dataset\n",
    "        total_months += 1\n",
    "        count_profitnlosses += 1\n",
    "        \n",
    "        # logic to calculate Change of Profit / Losses variable\n",
    "        if total_months >1:\n",
    "            change_profitnlosses = int(row[1]) - profitnlosses\n",
    "        \n",
    "        # Calculate the net total of Profit/losses over the entire period\n",
    "        profitnlosses = int(row[1])\n",
    "        net_profitnlosses += profitnlosses\n",
    "\n",
    "        # Sum the changes in Profit/Losses over the entire period.\n",
    "        total_change_profitnlosses += change_profitnlosses\n",
    "\n",
    "    # Calculate the average of the changes in Profit/Losses over the entire period\n",
    "    average_change_profitnlosses = total_change_profitnlosses / (count_profitnlosses - 1)\n",
    "    round_average_change_profitnlosses = round(average_change_profitnlosses,2)\n",
    "        \n",
    "#check value is correct\n",
    "print(f\"Total Months: {total_months}\")\n",
    "print(f\"Net Total of Profit/Losses: ${net_profitnlosses}\")\n",
    "print(f\"Average Change: ${round_average_change_profitnlosses}\")"
   ]
  },
  {
   "cell_type": "code",
   "execution_count": null,
   "id": "5facfd8a-fb98-452d-91ee-7aa1cb7ad4ae",
   "metadata": {},
   "outputs": [],
   "source": []
  },
  {
   "cell_type": "code",
   "execution_count": null,
   "id": "a763c871-16ac-421e-9853-20c34a1bc9d5",
   "metadata": {},
   "outputs": [],
   "source": [
    "#The greatest increase in profits (date and amount) over the entire period."
   ]
  },
  {
   "cell_type": "code",
   "execution_count": null,
   "id": "4c21f719-2c94-4436-bd21-523556c33b4a",
   "metadata": {},
   "outputs": [],
   "source": [
    "#The greatest decrease in losses (date and amount) over the entire period."
   ]
  }
 ],
 "metadata": {
  "kernelspec": {
   "display_name": "Python 3 (ipykernel)",
   "language": "python",
   "name": "python3"
  },
  "language_info": {
   "codemirror_mode": {
    "name": "ipython",
    "version": 3
   },
   "file_extension": ".py",
   "mimetype": "text/x-python",
   "name": "python",
   "nbconvert_exporter": "python",
   "pygments_lexer": "ipython3",
   "version": "3.9.7"
  }
 },
 "nbformat": 4,
 "nbformat_minor": 5
}
